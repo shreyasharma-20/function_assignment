{
 "cells": [
  {
   "cell_type": "markdown",
   "id": "02b67098-2a1c-4246-8d84-265b1ca6ea0b",
   "metadata": {},
   "source": [
    "#THEORY QUESTIONS"
   ]
  },
  {
   "cell_type": "markdown",
   "id": "6f6c50b0-e5b4-4627-b198-089a1164eb9a",
   "metadata": {},
   "source": [
    "1. What is the difference between a function and a method in Python?\n",
    "\n",
    "Ans:FUNCTION: A function is a structured, reusable code block utilized for carrying out a specific task. Functions facilitate the creation of modular code, simplifying maintenance and reusability.\n",
    "\n",
    "Method: Whereas method is associated or related to the instance of the object it is called using.A method is limited to operating on data inside the class in which the method is contained.\n",
    "It is a concept of object-oriented programming language.\n"
   ]
  },
  {
   "cell_type": "code",
   "execution_count": 36,
   "id": "a63cf67f-9b85-4483-a365-dee4030704e1",
   "metadata": {},
   "outputs": [
    {
     "name": "stdout",
     "output_type": "stream",
     "text": [
      "8\n"
     ]
    }
   ],
   "source": [
    "#example of function\n",
    "\n",
    "def add_numbers(a, b):\n",
    "    return a + b\n",
    "result = add_numbers(3, 5)\n",
    "print(result) "
   ]
  },
  {
   "cell_type": "code",
   "execution_count": 37,
   "id": "56972677-142c-454c-af55-73735f7cf47d",
   "metadata": {},
   "outputs": [
    {
     "name": "stdout",
     "output_type": "stream",
     "text": [
      "8\n"
     ]
    }
   ],
   "source": [
    "#example of method\n",
    "\n",
    "class Calculator:\n",
    "     def add(self, a, b):\n",
    "        return a + b\n",
    "\n",
    "calc = Calculator()\n",
    "result = calc.add(3, 5)\n",
    "print(result)  \n"
   ]
  },
  {
   "cell_type": "markdown",
   "id": "0194f62c-2411-4766-bc04-11198c4ec7bf",
   "metadata": {},
   "source": [
    "2. Explain the concept of function arguments and parameters in Python.\n",
    "\n",
    "Ans: Function arguments are values that you provide to a function when we call it. These arguments can be\n",
    "used by the function to perform specific tasks.Arguments are the actual objects or values you pass to a function or method when calling it. These terms are often used interchangeably.\n",
    "\n",
    "Parameters are the variables that appear between the brackets in the “def” line of a Python function definition."
   ]
  },
  {
   "cell_type": "code",
   "execution_count": 42,
   "id": "81e57e3c-3091-4d36-a9a4-303b269eb0be",
   "metadata": {},
   "outputs": [],
   "source": [
    "#example\n",
    "def sum1(*args):\n",
    "    s=0\n",
    "    for i in args:\n",
    "        s=s+i\n",
    "    return s    "
   ]
  },
  {
   "cell_type": "code",
   "execution_count": 43,
   "id": "12a57802-34ad-42e9-92df-6cd08d3ae3e0",
   "metadata": {},
   "outputs": [
    {
     "data": {
      "text/plain": [
       "21"
      ]
     },
     "execution_count": 43,
     "metadata": {},
     "output_type": "execute_result"
    }
   ],
   "source": [
    "sum1(1,2,3,4,5,6)"
   ]
  },
  {
   "cell_type": "markdown",
   "id": "e1fa30ed-8f70-4a76-b526-dd9fd87bfbe7",
   "metadata": {},
   "source": [
    "3. What are the different ways to define and call a function in Python?\n",
    "\n",
    "Ans:\n",
    "1. Simple Function\n",
    "A basic function that takes no parameters and returns nothing.\n",
    "\n",
    "\n",
    "2. Function with Parameters\n",
    "A function that takes arguments and uses them within the function.\n",
    "\n",
    "\n",
    "3. Function with Default Parameters\n",
    "A function that assigns default values to parameters if no arguments are provided during the call.\n",
    "\n",
    "\n",
    "4. Function with Variable-Length Arguments (Using *args)\n",
    "A function that accepts a variable number of positional arguments.\n",
    "\n",
    "\n",
    "5. Function with Keyword Arguments (Using **kwargs)\n",
    "A function that accepts a variable number of keyword arguments (as a dictionary).\n",
    "\n",
    "\n",
    "6. Lambda Functions (Anonymous Functions)\n",
    "A short, inline function defined using the lambda keyword.\n",
    "\n",
    "\n",
    "7. Nested Functions\n",
    "Functions defined within other functions.\n",
    "\n",
    "\n",
    "8. Calling Functions Recursively\n",
    "A function that calls itself."
   ]
  },
  {
   "cell_type": "code",
   "execution_count": 47,
   "id": "0ae051f9-2ca6-423d-95be-41a0c4be63f1",
   "metadata": {},
   "outputs": [
    {
     "data": {
      "text/plain": [
       "6"
      ]
     },
     "execution_count": 47,
     "metadata": {},
     "output_type": "execute_result"
    }
   ],
   "source": [
    "#example:\n",
    "def factorial(n):\n",
    "    if n == 1:\n",
    "        return 1\n",
    "    return n * factorial(n - 1)\n",
    "\n",
    "factorial(3)"
   ]
  },
  {
   "cell_type": "markdown",
   "id": "ec75da4e-0d2c-43cb-9d77-f2331a638eaf",
   "metadata": {},
   "source": [
    "4. What is the purpose of the `return` statement in a Python function?\n",
    " \n",
    "Ans: The return statement in a Python function serves the following purposes:\n",
    "\n",
    "a)Return a Value: The primary purpose of the return statement is to send a value back from the function to the caller .\n",
    "b)Exit the Function: When the return statement is executed, it immediately terminates the function, even if there is more code below it\n",
    "c)Return Multiple Values: In Python, you can use the return statement to return multiple values as a tuple\n",
    "\n",
    "Example:"
   ]
  },
  {
   "cell_type": "code",
   "execution_count": 32,
   "id": "5b8d3090-526c-4ad5-bc90-ae517c922d92",
   "metadata": {},
   "outputs": [
    {
     "data": {
      "text/plain": [
       "5"
      ]
     },
     "execution_count": 32,
     "metadata": {},
     "output_type": "execute_result"
    }
   ],
   "source": [
    "#return example\n",
    "def add(a, b):\n",
    "    return a + b\n",
    "\n",
    "result = add(2, 3)\n",
    "result"
   ]
  },
  {
   "cell_type": "markdown",
   "id": "dae260e9-d5bb-4491-a852-b71db4e53cf9",
   "metadata": {},
   "source": [
    "5. What are iterators in Python and how do they differ from iterables?\n",
    "\n",
    "Ans:\n",
    " An iterable is any python object/sequential structure/data structure that is capable of returning its members one at a time permitting it to be iterated over in a for loop.\n",
    "eg: list,tuples\n",
    "\n",
    "An iterator is an object representing a stream of data whose work is to return the data one by one.An Iterator is also an object that helps a user in iterating over another object (that is iterable).\n"
   ]
  },
  {
   "cell_type": "code",
   "execution_count": 33,
   "id": "777f8ac4-53ca-4a17-8b3c-993373b0e6eb",
   "metadata": {},
   "outputs": [
    {
     "name": "stdout",
     "output_type": "stream",
     "text": [
      "1\n"
     ]
    }
   ],
   "source": [
    "#example\n",
    "# Iterable\n",
    "my_list = [1, 2, 3]  # This is an iterable\n",
    "\n",
    "# Converting an iterable into an iterator\n",
    "my_iterator = iter(my_list)\n",
    "\n",
    "\n",
    "print(next(my_iterator)) "
   ]
  },
  {
   "cell_type": "code",
   "execution_count": 34,
   "id": "50e3b375-46d2-47bc-bc2d-4677f19cb92f",
   "metadata": {},
   "outputs": [
    {
     "name": "stdout",
     "output_type": "stream",
     "text": [
      "2\n"
     ]
    }
   ],
   "source": [
    "print(next(my_iterator)) "
   ]
  },
  {
   "cell_type": "code",
   "execution_count": 35,
   "id": "35e12686-1e63-4a0f-8a02-631bac4e4a40",
   "metadata": {},
   "outputs": [
    {
     "name": "stdout",
     "output_type": "stream",
     "text": [
      "3\n"
     ]
    }
   ],
   "source": [
    "print(next(my_iterator)) "
   ]
  },
  {
   "cell_type": "markdown",
   "id": "9ad19828-970e-4b52-99e3-d110b689a2e1",
   "metadata": {},
   "source": [
    "6. Explain the concept of generators in Python and how they are defined.\n",
    "\n",
    "Ans: Generators are a simple way to create iterators using functions and the yield keyword instead of returning values.\n",
    "\n"
   ]
  },
  {
   "cell_type": "code",
   "execution_count": 48,
   "id": "0b6bede2-22a5-4125-8ba5-2c70ee7ea5e7",
   "metadata": {},
   "outputs": [],
   "source": [
    "def square_number_generators(n):\n",
    "    for i in range(n):\n",
    "        yield i**2"
   ]
  },
  {
   "cell_type": "code",
   "execution_count": 49,
   "id": "fe3b7239-450c-43ba-9bae-5ef00c98c55d",
   "metadata": {},
   "outputs": [
    {
     "data": {
      "text/plain": [
       "<generator object square_number_generators at 0x737a8e55e110>"
      ]
     },
     "execution_count": 49,
     "metadata": {},
     "output_type": "execute_result"
    }
   ],
   "source": [
    "square_number_generators(10)"
   ]
  },
  {
   "cell_type": "code",
   "execution_count": 50,
   "id": "944288f9-ebe7-4d3c-b550-a93d3dc1f91b",
   "metadata": {},
   "outputs": [
    {
     "data": {
      "text/plain": [
       "<generator object square_number_generators at 0x737a8e55e2d0>"
      ]
     },
     "execution_count": 50,
     "metadata": {},
     "output_type": "execute_result"
    }
   ],
   "source": [
    "gen = square_number_generators(10)\n",
    "gen"
   ]
  },
  {
   "cell_type": "code",
   "execution_count": 51,
   "id": "1fc77f52-96e6-4958-8982-cb040320904a",
   "metadata": {},
   "outputs": [
    {
     "data": {
      "text/plain": [
       "0"
      ]
     },
     "execution_count": 51,
     "metadata": {},
     "output_type": "execute_result"
    }
   ],
   "source": [
    "next(gen)"
   ]
  },
  {
   "cell_type": "code",
   "execution_count": 52,
   "id": "bd9b8883-2163-4e88-af55-72d82fb2a77e",
   "metadata": {},
   "outputs": [
    {
     "data": {
      "text/plain": [
       "1"
      ]
     },
     "execution_count": 52,
     "metadata": {},
     "output_type": "execute_result"
    }
   ],
   "source": [
    "next(gen)\n"
   ]
  },
  {
   "cell_type": "code",
   "execution_count": 53,
   "id": "3ba114ae-6936-45f7-83a8-95e4ee92ac04",
   "metadata": {},
   "outputs": [
    {
     "data": {
      "text/plain": [
       "4"
      ]
     },
     "execution_count": 53,
     "metadata": {},
     "output_type": "execute_result"
    }
   ],
   "source": [
    "next(gen)"
   ]
  },
  {
   "cell_type": "code",
   "execution_count": 54,
   "id": "34882f05-80ee-4dcc-a7ae-cf178d1565ff",
   "metadata": {},
   "outputs": [
    {
     "data": {
      "text/plain": [
       "9"
      ]
     },
     "execution_count": 54,
     "metadata": {},
     "output_type": "execute_result"
    }
   ],
   "source": [
    "next(gen)"
   ]
  },
  {
   "cell_type": "markdown",
   "id": "597aac18-7c67-4091-aa35-4111a6df1f8b",
   "metadata": {},
   "source": [
    "7. What are the advantages of using generators over regular functions?\n",
    "\n",
    "Ans: Generators are more efficient than traditional loops for data processing or calculations, as they produce values one at a time instead of storing them in memory before returning them.\n",
    "\n"
   ]
  },
  {
   "cell_type": "markdown",
   "id": "7c357cfa-5638-4983-bb59-7fa2fffa6324",
   "metadata": {},
   "source": [
    "8. What is a lambda function in Python and when is it typically used?\n",
    "\n",
    "Ans: Lambda functions are small, anonymous functions defined using the lambda keyword. They are used for creating small, throwaway functions without the need to formally define a function using def."
   ]
  },
  {
   "cell_type": "code",
   "execution_count": 56,
   "id": "7d4b2ec2-d516-4715-92f2-efb6bb582c0c",
   "metadata": {},
   "outputs": [
    {
     "data": {
      "text/plain": [
       "[110, 220, 330, 440]"
      ]
     },
     "execution_count": 56,
     "metadata": {},
     "output_type": "execute_result"
    }
   ],
   "source": [
    "#example\n",
    "\n",
    "l1 = [ 100,200,300,400]\n",
    "l2=[10,20,30,40]\n",
    "list(map(lambda x,y:x+y,l1,l2))"
   ]
  },
  {
   "cell_type": "markdown",
   "id": "3d070471-af82-405c-9fce-ee6476eb6544",
   "metadata": {},
   "source": [
    "9. Explain the purpose and usage of the `map()` function in Python.\n",
    "\n",
    "Ans: The map function applies a given function to all items in an input iterable (like a list) and returns an iterator with the results.\n",
    "Map executes a specified function for each of an iterable"
   ]
  },
  {
   "cell_type": "code",
   "execution_count": 2,
   "id": "f0b9824f-5bc9-4b22-9ab9-c379925e24be",
   "metadata": {},
   "outputs": [
    {
     "name": "stdout",
     "output_type": "stream",
     "text": [
      "Help on class map in module builtins:\n",
      "\n",
      "class map(object)\n",
      " |  map(func, *iterables) --> map object\n",
      " |  \n",
      " |  Make an iterator that computes the function using arguments from\n",
      " |  each of the iterables.  Stops when the shortest iterable is exhausted.\n",
      " |  \n",
      " |  Methods defined here:\n",
      " |  \n",
      " |  __getattribute__(self, name, /)\n",
      " |      Return getattr(self, name).\n",
      " |  \n",
      " |  __iter__(self, /)\n",
      " |      Implement iter(self).\n",
      " |  \n",
      " |  __next__(self, /)\n",
      " |      Implement next(self).\n",
      " |  \n",
      " |  __reduce__(...)\n",
      " |      Return state information for pickling.\n",
      " |  \n",
      " |  ----------------------------------------------------------------------\n",
      " |  Static methods defined here:\n",
      " |  \n",
      " |  __new__(*args, **kwargs) from builtins.type\n",
      " |      Create and return a new object.  See help(type) for accurate signature.\n",
      "\n"
     ]
    }
   ],
   "source": [
    "help(map)"
   ]
  },
  {
   "cell_type": "code",
   "execution_count": 9,
   "id": "5620ed4e-53ab-400e-b3ee-a0c683906f92",
   "metadata": {},
   "outputs": [],
   "source": [
    "def sq(x):\n",
    "    return x**2"
   ]
  },
  {
   "cell_type": "code",
   "execution_count": 10,
   "id": "c7393115-50e0-4783-977c-86a6c843b89b",
   "metadata": {},
   "outputs": [
    {
     "data": {
      "text/plain": [
       "[1, 2, 3, 5]"
      ]
     },
     "execution_count": 10,
     "metadata": {},
     "output_type": "execute_result"
    }
   ],
   "source": [
    "l=[1,2,3,5]\n",
    "l"
   ]
  },
  {
   "cell_type": "code",
   "execution_count": 11,
   "id": "1f57bbb5-5e77-4a16-a79e-9dd27a7ddd0c",
   "metadata": {},
   "outputs": [
    {
     "data": {
      "text/plain": [
       "<map at 0x70b6c8422620>"
      ]
     },
     "execution_count": 11,
     "metadata": {},
     "output_type": "execute_result"
    }
   ],
   "source": [
    "map(sq,l)"
   ]
  },
  {
   "cell_type": "code",
   "execution_count": 12,
   "id": "cb70c2e0-1744-4565-a22e-c76bf4b17130",
   "metadata": {},
   "outputs": [
    {
     "data": {
      "text/plain": [
       "[1, 4, 9, 25]"
      ]
     },
     "execution_count": 12,
     "metadata": {},
     "output_type": "execute_result"
    }
   ],
   "source": [
    "list(map(sq,l))"
   ]
  },
  {
   "cell_type": "code",
   "execution_count": 14,
   "id": "3fa836fd-69d8-4030-aba3-327f2c1d7813",
   "metadata": {},
   "outputs": [
    {
     "data": {
      "text/plain": [
       "[11, 12, 13, 15]"
      ]
     },
     "execution_count": 14,
     "metadata": {},
     "output_type": "execute_result"
    }
   ],
   "source": [
    "def add(x):\n",
    "    return x+10\n",
    "list(map(add,l))"
   ]
  },
  {
   "cell_type": "markdown",
   "id": "af64a231-03d4-4135-9e45-dea30c33efe9",
   "metadata": {},
   "source": [
    "10. What is the difference between `map()`, `reduce()`, and `filter()` functions in Python?\n",
    "\n",
    "Ans: Map executes a specified function for each of item of an iterable\n",
    "syntax>> map(func,*iterable)\n",
    "\n",
    "Python’s reduce implements a mathematical technique commonly known as \"folding\" or \"reduction\".\n",
    " It is a process where you reduce a list of items to a single value(cumulative value).\n",
    " Apply a function to the first two items in an iterable.\n",
    "\n",
    "Filter is used to filter elements from an iterable based on some conditions\n",
    "\n",
    "Example: Map\n"
   ]
  },
  {
   "cell_type": "code",
   "execution_count": 18,
   "id": "a3dc3dfc-a8f9-41e9-a0f2-8718f8aa263d",
   "metadata": {},
   "outputs": [
    {
     "data": {
      "text/plain": [
       "[11, 12, 13, 14, 15]"
      ]
     },
     "execution_count": 18,
     "metadata": {},
     "output_type": "execute_result"
    }
   ],
   "source": [
    "#map\n",
    "l = [1,2,3,4,5]\n",
    "def add(x):\n",
    "    return x + 10\n",
    "list(map(add,l))"
   ]
  },
  {
   "cell_type": "code",
   "execution_count": 19,
   "id": "d156fdf6-bbba-4445-bbf7-25ae06904a12",
   "metadata": {},
   "outputs": [
    {
     "data": {
      "text/plain": [
       "[2, 4, 6, 8, 10]"
      ]
     },
     "execution_count": 19,
     "metadata": {},
     "output_type": "execute_result"
    }
   ],
   "source": [
    "def sq(x):\n",
    "    return x*2\n",
    "list(map(sq,l))"
   ]
  },
  {
   "cell_type": "code",
   "execution_count": 21,
   "id": "7f5eec52-752a-4449-803e-42242beac8e5",
   "metadata": {},
   "outputs": [
    {
     "data": {
      "text/plain": [
       "10"
      ]
     },
     "execution_count": 21,
     "metadata": {},
     "output_type": "execute_result"
    }
   ],
   "source": [
    "#reduce\n",
    "from functools import reduce\n",
    "l=[1,2,3,4]\n",
    "reduce(lambda x,y:x+y,l)"
   ]
  },
  {
   "cell_type": "code",
   "execution_count": 22,
   "id": "aa1f16d3-7448-4db6-bce6-aecc21d1fc41",
   "metadata": {},
   "outputs": [
    {
     "data": {
      "text/plain": [
       "[8, 9]"
      ]
     },
     "execution_count": 22,
     "metadata": {},
     "output_type": "execute_result"
    }
   ],
   "source": [
    "#Filter\n",
    "l= [-1,-2,-3,8,9]\n",
    "list(filter(lambda x:x>0,l))"
   ]
  },
  {
   "cell_type": "raw",
   "id": "b4c1434e-c6ce-4607-841b-354771383a1b",
   "metadata": {},
   "source": [
    "11) using pen and paper write the internal mechanism for sum operation using  reduce function on this given list:[47,11,42,13]\n",
    "\n",
    "Ans attached in doc "
   ]
  },
  {
   "cell_type": "code",
   "execution_count": null,
   "id": "ea70aa19-b55c-4baf-b72a-0b61fa25556b",
   "metadata": {},
   "outputs": [],
   "source": []
  },
  {
   "cell_type": "markdown",
   "id": "4c87e0c5-30cf-4cc0-acf1-11556a48b2be",
   "metadata": {},
   "source": [
    "#PRACTICAL QUESTIONS"
   ]
  },
  {
   "cell_type": "markdown",
   "id": "798e42b5-1331-4b71-bbe8-511d9d32beb8",
   "metadata": {},
   "source": [
    "1. Write a Python function that takes a list of numbers as input and returns the sum of all even numbers in\n",
    "the list."
   ]
  },
  {
   "cell_type": "code",
   "execution_count": 18,
   "id": "ca348b56-19bc-4eb0-9ff2-9789a5d3b23c",
   "metadata": {},
   "outputs": [],
   "source": [
    "def even_sum(numbers):\n",
    "    sum=0\n",
    "    for i in numbers:\n",
    "        if i%2==0:\n",
    "            sum=sum+i\n",
    "    return sum        "
   ]
  },
  {
   "cell_type": "code",
   "execution_count": 19,
   "id": "b99bbdbe-2a6a-48da-8841-5d019a908d12",
   "metadata": {},
   "outputs": [
    {
     "data": {
      "text/plain": [
       "20"
      ]
     },
     "execution_count": 19,
     "metadata": {},
     "output_type": "execute_result"
    }
   ],
   "source": [
    "even_sum([1,2,3,4,5,6,7,8])"
   ]
  },
  {
   "cell_type": "code",
   "execution_count": 28,
   "id": "a6dbea3a-87bb-4038-9f57-62ef422c7b2e",
   "metadata": {},
   "outputs": [
    {
     "name": "stdout",
     "output_type": "stream",
     "text": [
      "!dlroW ,olleH\n"
     ]
    }
   ],
   "source": [
    "#2. Create a Python function that accepts a string and returns the reverse of that string.\n",
    "\n",
    "def reverse_string(s):\n",
    "    return s[::-1]\n",
    "\n",
    "# Example usage\n",
    "string1 = \"Hello, World!\"\n",
    "reversed_string = reverse_string(string1)\n",
    "print(reversed_string)\n",
    "\n"
   ]
  },
  {
   "cell_type": "code",
   "execution_count": null,
   "id": "1269dd50-921f-4909-8a5f-e3ce9f27ad9f",
   "metadata": {},
   "outputs": [],
   "source": [
    "#3. Implement a Python function that takes a list of integers and returns a new list containing the squares of\n",
    "#each number.\n",
    "\n",
    "l = [1,2,3,4,5]\n",
    "def square(l):\n",
    "    sq = []\n",
    "    for i in l:\n",
    "        sq.append(i**2)\n",
    "    return sq "
   ]
  },
  {
   "cell_type": "code",
   "execution_count": 26,
   "id": "ec69062a-94d7-4c82-98c7-5fe4366b97ab",
   "metadata": {},
   "outputs": [
    {
     "data": {
      "text/plain": [
       "[1, 4, 9, 16, 25, 36, 49]"
      ]
     },
     "execution_count": 26,
     "metadata": {},
     "output_type": "execute_result"
    }
   ],
   "source": [
    "square(l)"
   ]
  },
  {
   "cell_type": "code",
   "execution_count": 1,
   "id": "e4efbaff-7fb2-4d30-b0cf-fc30a6fecd52",
   "metadata": {},
   "outputs": [
    {
     "name": "stdout",
     "output_type": "stream",
     "text": [
      "Not Prime\n"
     ]
    }
   ],
   "source": [
    "#4. Write a Python function that checks if a given number is prime or not from 1 to 200.\n",
    "\n",
    "num = 10\n",
    "for i in range(2,num):\n",
    "    if num % i == 0:\n",
    "        print(\"Not Prime\")\n",
    "        break\n",
    "else:\n",
    "    print(\"Prime number\")\n",
    "        \n",
    "    "
   ]
  },
  {
   "cell_type": "code",
   "execution_count": 4,
   "id": "2383fdc2-7923-4c45-a6b9-11f49a51aed2",
   "metadata": {},
   "outputs": [
    {
     "name": "stdout",
     "output_type": "stream",
     "text": [
      "Prime number\n"
     ]
    }
   ],
   "source": [
    "num = 13\n",
    "for i in range(2,num):\n",
    "    if num % i == 0:\n",
    "        print(\"Not Prime\")\n",
    "        break\n",
    "else:\n",
    "    print(\"Prime number\")\n",
    "        \n",
    "    "
   ]
  },
  {
   "cell_type": "code",
   "execution_count": 1,
   "id": "c302b773-e4da-4dd1-b7a2-335ac7f487ba",
   "metadata": {},
   "outputs": [],
   "source": [
    "#5. Create an iterator class in Python that generates the Fibonacci sequence up to a specified number of terms\n"
   ]
  },
  {
   "cell_type": "code",
   "execution_count": 2,
   "id": "ce848aaa-197e-4b91-aebe-2224e89b2803",
   "metadata": {},
   "outputs": [],
   "source": [
    "class FibonacciIterator:\n",
    "    def __init__(self, n):\n",
    "        self.n = n  \n",
    "        self.current = 0  \n",
    "        self.a, self.b = 0, 1 \n",
    "    def __iter__(self):\n",
    "        return self  \n",
    "    \n",
    "    def __next__(self):\n",
    "        if self.current >= self.n:  \n",
    "            raise StopIteration\n",
    "\n",
    "        # Return the current Fibonacci number\n",
    "        if self.current == 0:\n",
    "            self.current += 1\n",
    "            return self.a\n",
    "        elif self.current == 1:\n",
    "            self.current += 1\n",
    "            return self.b\n",
    "\n",
    "        # Compute the next Fibonacci number\n",
    "        self.a, self.b = self.b, self.a + self.b\n",
    "        self.current += 1\n",
    "        return self.a\n",
    "\n",
    "\n",
    "  "
   ]
  },
  {
   "cell_type": "code",
   "execution_count": 6,
   "id": "f00df811-1ac9-46ed-8ef7-aa2a92c80252",
   "metadata": {},
   "outputs": [
    {
     "name": "stdout",
     "output_type": "stream",
     "text": [
      "0\n",
      "1\n",
      "1\n",
      "1\n",
      "2\n",
      "3\n",
      "5\n",
      "8\n",
      "13\n",
      "21\n"
     ]
    }
   ],
   "source": [
    "fib = FibonacciIterator(10)\n",
    "for num in fib:\n",
    "    print(num)"
   ]
  },
  {
   "cell_type": "code",
   "execution_count": 4,
   "id": "fefbc630-95c7-46a3-9eef-08491ee7c7fd",
   "metadata": {},
   "outputs": [
    {
     "name": "stdout",
     "output_type": "stream",
     "text": [
      "1\n",
      "2\n",
      "4\n",
      "8\n",
      "16\n",
      "32\n"
     ]
    }
   ],
   "source": [
    "#6. Write a generator function in Python that yields the powers of 2 up to a given exponent\n",
    "def powers_of_two(max_exponent):\n",
    "    \n",
    "    for exponent in range(max_exponent + 1):\n",
    "        yield 2 ** exponent\n",
    "\n",
    "max_exponent = 5\n",
    "\n",
    "for power in powers_of_two(max_exponent):\n",
    "    print(power)\n"
   ]
  },
  {
   "cell_type": "code",
   "execution_count": 16,
   "id": "2570bb19-48e2-47ee-ad40-11e215c83360",
   "metadata": {},
   "outputs": [
    {
     "name": "stdout",
     "output_type": "stream",
     "text": [
      "1\n",
      "2\n",
      "4\n",
      "8\n",
      "16\n",
      "32\n"
     ]
    }
   ],
   "source": [
    "max_exponent = 5\n",
    "\n",
    "for power in powers_of_two(max_exponent):\n",
    "    print(power)\n"
   ]
  },
  {
   "cell_type": "code",
   "execution_count": null,
   "id": "fdad1591-9bf1-4392-bae6-013c5aa37427",
   "metadata": {},
   "outputs": [],
   "source": [
    "#7. Implement a generator function that reads a file line by line and yields each line as a string.\n"
   ]
  },
  {
   "cell_type": "code",
   "execution_count": 14,
   "id": "191064f0-d05a-49c4-b138-08e0509ccc3e",
   "metadata": {},
   "outputs": [
    {
     "name": "stdout",
     "output_type": "stream",
     "text": [
      "[(4, 1), (2, 3), (3, 4), (1, 5)]\n"
     ]
    }
   ],
   "source": [
    "#8. Use a lambda function in Python to sort a list of tuples based on the second element of each tuple.\n",
    "\n",
    "tuples_list = [(1, 5), (2, 3), (3, 4), (4, 1)]\n",
    "\n",
    "sorted_list = sorted(tuples_list, key=lambda x: x[1])\n",
    "\n",
    "print(sorted_list)\n"
   ]
  },
  {
   "cell_type": "code",
   "execution_count": 26,
   "id": "1d5b0ae7-2416-4cb4-afad-04c51d9358df",
   "metadata": {},
   "outputs": [
    {
     "name": "stdout",
     "output_type": "stream",
     "text": [
      "[32.0, 50.0, 68.0, 86.0, 104.0, 212.0]\n"
     ]
    }
   ],
   "source": [
    "#9. Write a Python program that uses `map()` to convert a list of temperatures from Celsius to Fahrenheit\n",
    "\n",
    "celsius_temps = [0, 10, 20, 30, 40, 100]\n",
    "\n",
    "def celsius_to_fahrenheit(celsius):\n",
    "    \"\"\"Convert Celsius to Fahrenheit.\"\"\"\n",
    "    return (celsius * 9/5) + 32\n",
    "fahrenheit_temps = list(map(celsius_to_fahrenheit, celsius_temps))\n",
    "\n",
    "print(fahrenheit_temps)\n"
   ]
  },
  {
   "cell_type": "code",
   "execution_count": 27,
   "id": "8532c411-f531-4d60-a043-8d964014ec0b",
   "metadata": {},
   "outputs": [
    {
     "name": "stdout",
     "output_type": "stream",
     "text": [
      "Hll, Wrld!\n"
     ]
    }
   ],
   "source": [
    "#10. Create a Python program that uses filter() to remove all the vowels from a given string.\n",
    "def is_not_vowel(char):\n",
    "    \"\"\"Return True if the character is not a vowel, False otherwise.\"\"\"\n",
    "    return char.lower() not in 'aeiou'\n",
    "\n",
    "# Given string\n",
    "input_string = \"Hello, World!\"\n",
    "\n",
    "# Use filter() to remove vowels\n",
    "filtered_chars = filter(is_not_vowel, input_string)\n",
    "\n",
    "# Convert the filter object to a string and print it\n",
    "result_string = ''.join(filtered_chars)\n",
    "print(result_string)\n"
   ]
  },
  {
   "cell_type": "raw",
   "id": "bdfdc904-7f00-4b78-b345-8bac793e2624",
   "metadata": {},
   "source": [
    "# 11)Imagine an accounting routine used in a book shop. It works on a list with sublists, which look like this:\n",
    "\n",
    "\n",
    "\n",
    "\n",
    "\n",
    "\n",
    "\n",
    "Write a Python program, which returns a list with 2-tuples. Each tuple consists of the order number and the\n",
    "product of the price per item and the quantity. The product should be increased by 10,- € if the value of the\n",
    "order is smaller than 100,00 €.\n",
    "\n",
    "Write a Python program using lambda and map"
   ]
  },
  {
   "cell_type": "code",
   "execution_count": 9,
   "id": "eb57eeb3-a27f-42af-86e3-aaff08a59a77",
   "metadata": {},
   "outputs": [
    {
     "name": "stdout",
     "output_type": "stream",
     "text": [
      "[(34587, 163.8), (98762, 284.0), (77226, 108.97), (88112, 34.99)]\n"
     ]
    }
   ],
   "source": [
    "orders = [ [34587, 4, 40.95], [98762, 5, 56.80], [77226, 3, 32.99],[88112, 1, 24.99]]\n",
    "\n",
    "# Using map and lambda to calculate the desired list of 2-tuples\n",
    "result = list(map(lambda x: (x[0], round(x[1] * x[2] + (10 if x[1] * x[2] < 100 else 0), 2)), orders))\n",
    "\n",
    "print(result)\n"
   ]
  },
  {
   "cell_type": "code",
   "execution_count": null,
   "id": "bb15dfd3-9442-4a0d-a2f3-0c8f1bb2d344",
   "metadata": {},
   "outputs": [],
   "source": []
  }
 ],
 "metadata": {
  "kernelspec": {
   "display_name": "Python 3 (ipykernel)",
   "language": "python",
   "name": "python3"
  },
  "language_info": {
   "codemirror_mode": {
    "name": "ipython",
    "version": 3
   },
   "file_extension": ".py",
   "mimetype": "text/x-python",
   "name": "python",
   "nbconvert_exporter": "python",
   "pygments_lexer": "ipython3",
   "version": "3.10.8"
  }
 },
 "nbformat": 4,
 "nbformat_minor": 5
}
